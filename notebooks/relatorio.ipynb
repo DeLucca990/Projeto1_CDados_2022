{
 "cells": [
  {
   "cell_type": "markdown",
   "metadata": {},
   "source": [
    "# Projeto 1 - Ciência dos Dados"
   ]
  },
  {
   "cell_type": "markdown",
   "metadata": {},
   "source": [
    "Nome: Pedro De Lucca Sartori Chagas Ferro\n",
    "\n",
    "Nome: Pedro Antônio Braga Dutra"
   ]
  },
  {
   "cell_type": "markdown",
   "metadata": {},
   "source": [
    "___\n",
    "Carregando algumas bibliotecas:"
   ]
  },
  {
   "cell_type": "code",
   "execution_count": 184,
   "metadata": {},
   "outputs": [],
   "source": [
    "%matplotlib inline\n",
    "import pandas as pd\n",
    "import matplotlib.pyplot as plt\n",
    "import numpy as np\n",
    "import os"
   ]
  },
  {
   "cell_type": "code",
   "execution_count": 185,
   "metadata": {},
   "outputs": [
    {
     "name": "stdout",
     "output_type": "stream",
     "text": [
      "Esperamos trabalhar no diretório\n",
      "c:\\Users\\Pedro De Lucca\\Documents\\Insper\\2° Semestre\\CDados\\22-2a-cd-p1-grupo_pedrolscf\\notebooks\n"
     ]
    }
   ],
   "source": [
    "print('Esperamos trabalhar no diretório')\n",
    "print(os.getcwd())"
   ]
  },
  {
   "cell_type": "code",
   "execution_count": 186,
   "metadata": {},
   "outputs": [],
   "source": [
    "filename = 'dados.xlsx'"
   ]
  },
  {
   "cell_type": "code",
   "execution_count": 187,
   "metadata": {},
   "outputs": [
    {
     "data": {
      "text/html": [
       "<div>\n",
       "<style scoped>\n",
       "    .dataframe tbody tr th:only-of-type {\n",
       "        vertical-align: middle;\n",
       "    }\n",
       "\n",
       "    .dataframe tbody tr th {\n",
       "        vertical-align: top;\n",
       "    }\n",
       "\n",
       "    .dataframe thead th {\n",
       "        text-align: right;\n",
       "    }\n",
       "</style>\n",
       "<table border=\"1\" class=\"dataframe\">\n",
       "  <thead>\n",
       "    <tr style=\"text-align: right;\">\n",
       "      <th></th>\n",
       "      <th>Categoria</th>\n",
       "      <th>Titulo</th>\n",
       "      <th>Descrição</th>\n",
       "      <th>Data</th>\n",
       "      <th>Pagina</th>\n",
       "      <th>Target</th>\n",
       "      <th>P_Chave</th>\n",
       "    </tr>\n",
       "  </thead>\n",
       "  <tbody>\n",
       "    <tr>\n",
       "      <th>0</th>\n",
       "      <td>bolsonaro</td>\n",
       "      <td>Após repercussão, site com críticas ao preside...</td>\n",
       "      <td>Após a repercussão, o domínio ‘bolsonaro.com.b...</td>\n",
       "      <td>01/09/2022 15:50</td>\n",
       "      <td>1</td>\n",
       "      <td>0</td>\n",
       "      <td>crítica e acusações sobre a família bolsonaro</td>\n",
       "    </tr>\n",
       "    <tr>\n",
       "      <th>1</th>\n",
       "      <td>bolsonaro</td>\n",
       "      <td>Bolsonaro chama de narrativa críticas de compo...</td>\n",
       "      <td>O presidente Jair Bolsonaro (PL) atribuiu a um...</td>\n",
       "      <td>01/09/2022 20:56</td>\n",
       "      <td>1</td>\n",
       "      <td>0</td>\n",
       "      <td>ataques à jornalista</td>\n",
       "    </tr>\n",
       "    <tr>\n",
       "      <th>2</th>\n",
       "      <td>bolsonaro</td>\n",
       "      <td>Lula cai dois pontos, Bolsonaro fica estável, ...</td>\n",
       "      <td>Uma nova pesquisa Datafolha presidencial foi d...</td>\n",
       "      <td>01/09/2022 21:42</td>\n",
       "      <td>1</td>\n",
       "      <td>0</td>\n",
       "      <td>NaN</td>\n",
       "    </tr>\n",
       "    <tr>\n",
       "      <th>3</th>\n",
       "      <td>bolsonaro</td>\n",
       "      <td>Datafolha: Entre mulheres, Lula tem 48%, Bolso...</td>\n",
       "      <td>A pesquisa do Instituto Datafolha divulgada ne...</td>\n",
       "      <td>01/09/2022 22:01</td>\n",
       "      <td>1</td>\n",
       "      <td>0</td>\n",
       "      <td>protagonizou agressão verbal à jornalista vera</td>\n",
       "    </tr>\n",
       "    <tr>\n",
       "      <th>4</th>\n",
       "      <td>bolsonaro</td>\n",
       "      <td>Lula diz que orçamento de Bolsonaro não prevê ...</td>\n",
       "      <td>O ex-presidente e candidato Luiz Inácio Lula d...</td>\n",
       "      <td>01/09/2022 22:24</td>\n",
       "      <td>1</td>\n",
       "      <td>0</td>\n",
       "      <td>não inclui reajuste do salário mínimo</td>\n",
       "    </tr>\n",
       "  </tbody>\n",
       "</table>\n",
       "</div>"
      ],
      "text/plain": [
       "   Categoria                                             Titulo  \\\n",
       "0  bolsonaro  Após repercussão, site com críticas ao preside...   \n",
       "1  bolsonaro  Bolsonaro chama de narrativa críticas de compo...   \n",
       "2  bolsonaro  Lula cai dois pontos, Bolsonaro fica estável, ...   \n",
       "3  bolsonaro  Datafolha: Entre mulheres, Lula tem 48%, Bolso...   \n",
       "4  bolsonaro  Lula diz que orçamento de Bolsonaro não prevê ...   \n",
       "\n",
       "                                           Descrição              Data  \\\n",
       "0  Após a repercussão, o domínio ‘bolsonaro.com.b...  01/09/2022 15:50   \n",
       "1  O presidente Jair Bolsonaro (PL) atribuiu a um...  01/09/2022 20:56   \n",
       "2  Uma nova pesquisa Datafolha presidencial foi d...  01/09/2022 21:42   \n",
       "3  A pesquisa do Instituto Datafolha divulgada ne...  01/09/2022 22:01   \n",
       "4  O ex-presidente e candidato Luiz Inácio Lula d...  01/09/2022 22:24   \n",
       "\n",
       "   Pagina  Target                                         P_Chave  \n",
       "0       1       0   crítica e acusações sobre a família bolsonaro  \n",
       "1       1       0                            ataques à jornalista  \n",
       "2       1       0                                             NaN  \n",
       "3       1       0  protagonizou agressão verbal à jornalista vera  \n",
       "4       1       0           não inclui reajuste do salário mínimo  "
      ]
     },
     "execution_count": 187,
     "metadata": {},
     "output_type": "execute_result"
    }
   ],
   "source": [
    "train = pd.read_excel(filename, sheet_name = 'Treinamento')\n",
    "train.head(5)"
   ]
  },
  {
   "cell_type": "code",
   "execution_count": 188,
   "metadata": {},
   "outputs": [
    {
     "data": {
      "text/html": [
       "<div>\n",
       "<style scoped>\n",
       "    .dataframe tbody tr th:only-of-type {\n",
       "        vertical-align: middle;\n",
       "    }\n",
       "\n",
       "    .dataframe tbody tr th {\n",
       "        vertical-align: top;\n",
       "    }\n",
       "\n",
       "    .dataframe thead th {\n",
       "        text-align: right;\n",
       "    }\n",
       "</style>\n",
       "<table border=\"1\" class=\"dataframe\">\n",
       "  <thead>\n",
       "    <tr style=\"text-align: right;\">\n",
       "      <th></th>\n",
       "      <th>Categoria</th>\n",
       "      <th>Titulo</th>\n",
       "      <th>Descrição</th>\n",
       "      <th>Data</th>\n",
       "      <th>Pagina</th>\n",
       "      <th>Target</th>\n",
       "      <th>P_Chave</th>\n",
       "    </tr>\n",
       "  </thead>\n",
       "  <tbody>\n",
       "    <tr>\n",
       "      <th>0</th>\n",
       "      <td>bolsonaro</td>\n",
       "      <td>Bolsonaro critica TSE e diz que medidas da Cor...</td>\n",
       "      <td>O presidente Jair Bolsonaro (PL) fez críticas ...</td>\n",
       "      <td>02/09/2022 15:30</td>\n",
       "      <td>1</td>\n",
       "      <td>0</td>\n",
       "      <td>críticas TSE</td>\n",
       "    </tr>\n",
       "    <tr>\n",
       "      <th>1</th>\n",
       "      <td>bolsonaro</td>\n",
       "      <td>Esquerda se solidarizou com facada em 2018, ao...</td>\n",
       "      <td>Diferentemente do que disse o presidente Jair ...</td>\n",
       "      <td>02/09/2022 17:48</td>\n",
       "      <td>1</td>\n",
       "      <td>0</td>\n",
       "      <td>contrário diferentemente Bolsonaro</td>\n",
       "    </tr>\n",
       "    <tr>\n",
       "      <th>2</th>\n",
       "      <td>bolsonaro</td>\n",
       "      <td>Bolsonaro cometeu crime contra a humanidade na...</td>\n",
       "      <td>O júri simbólico do Tribunal Permanente dos Po...</td>\n",
       "      <td>01/09/2022 14:08</td>\n",
       "      <td>2</td>\n",
       "      <td>0</td>\n",
       "      <td>condenou crime sentença Bolsonaro</td>\n",
       "    </tr>\n",
       "    <tr>\n",
       "      <th>3</th>\n",
       "      <td>bolsonaro</td>\n",
       "      <td>Crítico de Bolsonaro compra domínio e ‘recria’...</td>\n",
       "      <td>Um site que antes era usado para exibir feitos...</td>\n",
       "      <td>31/08/2022 12:21</td>\n",
       "      <td>2</td>\n",
       "      <td>0</td>\n",
       "      <td>críticas Bolsonaro presidente ameaça Brasil</td>\n",
       "    </tr>\n",
       "    <tr>\n",
       "      <th>4</th>\n",
       "      <td>bolsonaro</td>\n",
       "      <td>Bolsonaro cometeu crime contra a humanidade na...</td>\n",
       "      <td>O júri simbólico do Tribunal Permanente dos Po...</td>\n",
       "      <td>01/09/2022 14:08</td>\n",
       "      <td>2</td>\n",
       "      <td>0</td>\n",
       "      <td>condenou crime sentença Bolsonaro</td>\n",
       "    </tr>\n",
       "  </tbody>\n",
       "</table>\n",
       "</div>"
      ],
      "text/plain": [
       "   Categoria                                             Titulo  \\\n",
       "0  bolsonaro  Bolsonaro critica TSE e diz que medidas da Cor...   \n",
       "1  bolsonaro  Esquerda se solidarizou com facada em 2018, ao...   \n",
       "2  bolsonaro  Bolsonaro cometeu crime contra a humanidade na...   \n",
       "3  bolsonaro  Crítico de Bolsonaro compra domínio e ‘recria’...   \n",
       "4  bolsonaro  Bolsonaro cometeu crime contra a humanidade na...   \n",
       "\n",
       "                                           Descrição              Data  \\\n",
       "0  O presidente Jair Bolsonaro (PL) fez críticas ...  02/09/2022 15:30   \n",
       "1  Diferentemente do que disse o presidente Jair ...  02/09/2022 17:48   \n",
       "2  O júri simbólico do Tribunal Permanente dos Po...  01/09/2022 14:08   \n",
       "3  Um site que antes era usado para exibir feitos...  31/08/2022 12:21   \n",
       "4  O júri simbólico do Tribunal Permanente dos Po...  01/09/2022 14:08   \n",
       "\n",
       "   Pagina  Target                                      P_Chave  \n",
       "0       1       0                                 críticas TSE  \n",
       "1       1       0           contrário diferentemente Bolsonaro  \n",
       "2       2       0            condenou crime sentença Bolsonaro  \n",
       "3       2       0  críticas Bolsonaro presidente ameaça Brasil  \n",
       "4       2       0            condenou crime sentença Bolsonaro  "
      ]
     },
     "execution_count": 188,
     "metadata": {},
     "output_type": "execute_result"
    }
   ],
   "source": [
    "test = pd.read_excel(filename, sheet_name = 'Teste')\n",
    "test.head(5)"
   ]
  },
  {
   "cell_type": "markdown",
   "metadata": {},
   "source": [
    "___\n",
    "## Classificador automático"
   ]
  },
  {
   "cell_type": "markdown",
   "metadata": {},
   "source": [
    "Vamos analisar, neste código, 800 notícias do site IstoÉ Dinheiro sobre o Governo Bolsonaro a fim de identificar seu desempenho com base no que é veiculado pela mídia. Para isso, classificamos nossa base de dados em 3 categorias, atribuindo os Targets 0 às notícias consideradas Negativas, 1 às consideradas Positivas e 2 às Neutras. Dessa maneira, o Target 0 representa escândalos (prisão, investigação, etc), troca deliberada de agentes dos 3 Poderes, indícios de governabilidade deficitária, relatos de oposição a recomendações de orgãos mundiais e baixa eficiência de políticas externas ou internas. Em contraponto, o Target 1 expressa notícias sobre boas práticas de governança, manutenção do bom relacionamento político externo e interno, adoção de medidas eficientes e/ou que se mostraram promissoras, inovações, criação e aprimoramento de benefícios sociais e parcerias. É importante notar que tanto 0 quanto 1 foram atribuídos somente a notícias relacionadas diretamente à governança do Presidente. Ao que não foi possível agrupar em 0 e 1, aplicou-se o Target 2."
   ]
  },
  {
   "cell_type": "markdown",
   "metadata": {},
   "source": [
    "# Criando O Classificador"
   ]
  },
  {
   "cell_type": "code",
   "execution_count": 189,
   "metadata": {},
   "outputs": [],
   "source": [
    "import re \n",
    "\n",
    "\n",
    "def limpador(text):\n",
    "    punctuation = '[!-.:?;%()‘’“”/]'\n",
    "    pattern = re.compile(punctuation)\n",
    "    text_subbed = re.sub(pattern, '', text)\n",
    "    text_subbed = text_subbed.lower()\n",
    "    return text_subbed"
   ]
  },
  {
   "cell_type": "code",
   "execution_count": 190,
   "metadata": {},
   "outputs": [],
   "source": [
    "train['P_Chave']=train['P_Chave'].astype(str)\n",
    "train['Titulo']=train['Titulo'].astype(str)\n",
    "train['Descrição']=train['Descrição'].astype(str)\n",
    "\n",
    "train['Descrição']=train['Descrição'].apply(limpador)\n",
    "train['Titulo']=train['Titulo'].apply(limpador)\n",
    "train['P_Chave']=train['P_Chave'].apply(limpador)"
   ]
  },
  {
   "cell_type": "code",
   "execution_count": 191,
   "metadata": {},
   "outputs": [],
   "source": [
    "test['P_Chave']=test['P_Chave'].astype(str)\n",
    "test['Titulo']=test['Titulo'].astype(str)\n",
    "test['Descrição']=test['Descrição'].astype(str)\n",
    "\n",
    "test['Descrição']=test['Descrição'].apply(limpador)\n",
    "test['Titulo']=test['Titulo'].apply(limpador)\n",
    "test['P_Chave']=test['P_Chave'].apply(limpador)"
   ]
  },
  {
   "cell_type": "code",
   "execution_count": 192,
   "metadata": {},
   "outputs": [],
   "source": [
    "train0_tit=train.loc[train['Target']==0,['Titulo','Target']]\n",
    "train1_tit=train.loc[train['Target']==1,['Titulo','Target']]\n",
    "train2_tit=train.loc[train['Target']==2,['Titulo','Target']]"
   ]
  },
  {
   "cell_type": "code",
   "execution_count": 193,
   "metadata": {},
   "outputs": [],
   "source": [
    "excluidos=['[…]','nan','–','de','a','o','e','na','no','do','em','ao','da','é','à','os','nas','nos','das','que',\n",
    "          'dos','as','r','se','para', '', 'como', 'com', 'um', 'nesta', 'diz', 'uma', 'por', 'foi', 'vai', 'após', 'durante',\n",
    "          'ele', 'ela', 'pelo', 'pela', 'segundafeira', 'terçafeira', 'quartafeira', 'quintafeira', 'sextafeira', \n",
    "          'sábado', 'domingo', 'são', 'ser','jair','presidente','bolsonaro']"
   ]
  },
  {
   "cell_type": "markdown",
   "metadata": {},
   "source": [
    "#### Tratando O DataFrame TRAIN"
   ]
  },
  {
   "cell_type": "code",
   "execution_count": 194,
   "metadata": {},
   "outputs": [],
   "source": [
    "train_tit=train.iloc[:,[1,5]]"
   ]
  },
  {
   "cell_type": "markdown",
   "metadata": {},
   "source": [
    "# Analisando os Títulos (TRAIN)"
   ]
  },
  {
   "cell_type": "markdown",
   "metadata": {},
   "source": [
    "### Lista dos NEGATIVOS (0)"
   ]
  },
  {
   "cell_type": "code",
   "execution_count": 195,
   "metadata": {},
   "outputs": [],
   "source": [
    "lista_train0_tit=[]\n",
    "lista_train0_tit_quero=[]\n",
    "for i in range(0,len(train0_tit)):\n",
    "    quero=train0_tit.iloc[i,0]\n",
    "    final = quero.split()\n",
    "    lista_train0_tit+=(final)\n",
    "w=0\n",
    "while w <len(lista_train0_tit):\n",
    "    if lista_train0_tit[w] not in excluidos:\n",
    "        lista_train0_tit_quero.append(lista_train0_tit[w])\n",
    "    w+=1"
   ]
  },
  {
   "cell_type": "markdown",
   "metadata": {},
   "source": [
    "### Lista dos POSITIVOS (1)"
   ]
  },
  {
   "cell_type": "code",
   "execution_count": 196,
   "metadata": {},
   "outputs": [],
   "source": [
    "lista_train1_tit=[]\n",
    "lista_train1_tit_quero=[]\n",
    "for i in range(0,len(train1_tit)):\n",
    "    quero=train1_tit.iloc[i,0]\n",
    "    final = quero.split()\n",
    "    lista_train1_tit+=(final)\n",
    "w=0\n",
    "while w <len(lista_train1_tit):\n",
    "    if lista_train1_tit[w] not in excluidos:\n",
    "        lista_train1_tit_quero.append(lista_train1_tit[w])\n",
    "    w+=1"
   ]
  },
  {
   "cell_type": "markdown",
   "metadata": {},
   "source": [
    "### Lista dos NEUTROS (2)"
   ]
  },
  {
   "cell_type": "code",
   "execution_count": 197,
   "metadata": {},
   "outputs": [],
   "source": [
    "lista_train2_tit=[]\n",
    "lista_train2_tit_quero=[]\n",
    "for i in range(0,len(train2_tit)):\n",
    "    quero=train2_tit.iloc[i,0]\n",
    "    final = quero.split()\n",
    "    lista_train2_tit+=(final)\n",
    "w=0\n",
    "while w <len(lista_train2_tit):\n",
    "    if lista_train2_tit[w] not in excluidos:\n",
    "        lista_train2_tit_quero.append(lista_train2_tit[w])\n",
    "    w+=1"
   ]
  },
  {
   "cell_type": "markdown",
   "metadata": {},
   "source": [
    "### Transformando para Serie"
   ]
  },
  {
   "cell_type": "code",
   "execution_count": 198,
   "metadata": {},
   "outputs": [],
   "source": [
    "serie0_tit=pd.Series(lista_train0_tit_quero).value_counts()\n",
    "serie1_tit=pd.Series(lista_train1_tit_quero).value_counts()\n",
    "serie2_tit=pd.Series(lista_train2_tit_quero).value_counts()\n",
    "\n",
    "#print(lista_train1_tit_quero)"
   ]
  },
  {
   "cell_type": "markdown",
   "metadata": {},
   "source": [
    "## Testando Iterações"
   ]
  },
  {
   "cell_type": "code",
   "execution_count": 199,
   "metadata": {},
   "outputs": [],
   "source": [
    "len0 = len(serie0_tit)\n",
    "len1 = len(serie1_tit)\n",
    "len2 = len(serie2_tit)\n",
    "\n",
    "if len0 < len1 and len0 < len2:\n",
    "    serie1_tit = serie1_tit.to_frame()\n",
    "    serie1_tit = serie1_tit.iloc[0:len0,:]\n",
    "    serie2_tit = serie2_tit.to_frame()\n",
    "    serie2_tit = serie2_tit.iloc[0:len0,:]\n",
    "elif len1 < len2:\n",
    "    serie0_tit = serie0_tit.to_frame()\n",
    "    serie0_tit = serie0_tit.iloc[0:len1,:]\n",
    "    serie2_tit = serie2_tit.to_frame()\n",
    "    serie2_tit = serie2_tit.iloc[0:len0,:]\n",
    "else:\n",
    "    serie0_tit = serie0_tit.to_frame()\n",
    "    serie0_tit = serie0_tit.iloc[0:len2,:]\n",
    "    serie1_tit = serie1_tit.to_frame()\n",
    "    serie1_tit = serie1_tit.iloc[0:len0,:]\n",
    "\n",
    "serie0_tit = serie0_tit.squeeze()\n",
    "serie1_tit = serie1_tit.squeeze()\n",
    "serie2_tit = serie2_tit.squeeze()"
   ]
  },
  {
   "cell_type": "code",
   "execution_count": 200,
   "metadata": {},
   "outputs": [],
   "source": [
    "for palavra in lista_train0_tit_quero:\n",
    "    if palavra not in serie0_tit.index:\n",
    "        lista_train0_tit_quero.remove(palavra)\n",
    "\n",
    "for palavra in lista_train1_tit_quero:\n",
    "    if palavra not in serie1_tit.index:\n",
    "        lista_train1_tit_quero.remove(palavra)\n",
    "    \n",
    "for palavra in lista_train2_tit_quero:\n",
    "    if palavra not in serie2_tit.index:\n",
    "        lista_train2_tit_quero.remove(palavra)"
   ]
  },
  {
   "cell_type": "markdown",
   "metadata": {},
   "source": [
    "# Analisando Probabilidades"
   ]
  },
  {
   "cell_type": "code",
   "execution_count": 201,
   "metadata": {},
   "outputs": [
    {
     "name": "stdout",
     "output_type": "stream",
     "text": [
      "Probabilidade NEGATIVAS/TOTAL: 0.21875\n",
      "Probabilidade POSITIVAS/TOTAL: 0.26667\n",
      "Probabilidade NEUTRAS/TOTAL: 0.51458\n"
     ]
    }
   ],
   "source": [
    "tam0=len(train0_tit)\n",
    "tam1=len(train1_tit)\n",
    "tam2=len(train2_tit)\n",
    "total= tam0 + tam1 + tam2\n",
    "\n",
    "prob0=tam0/total\n",
    "prob1=tam1/total\n",
    "prob2=tam2/total\n",
    "\n",
    "print(f'Probabilidade NEGATIVAS/TOTAL: {float(prob0):.5f}')\n",
    "print(f'Probabilidade POSITIVAS/TOTAL: {float(prob1):.5f}')\n",
    "print(f'Probabilidade NEUTRAS/TOTAL: {float(prob2):.5f}')"
   ]
  },
  {
   "cell_type": "markdown",
   "metadata": {},
   "source": [
    "# Analisando o Desempenho do Classificador"
   ]
  },
  {
   "cell_type": "code",
   "execution_count": 202,
   "metadata": {},
   "outputs": [],
   "source": [
    "test['Auto_Target']='Vazio'\n",
    "test_tit=test.loc[:,['Titulo','Target','Auto_Target']]"
   ]
  },
  {
   "cell_type": "code",
   "execution_count": 203,
   "metadata": {},
   "outputs": [],
   "source": [
    "test['Auto_Target']='Vazio'\n",
    "test_tit=test.loc[:,['Titulo','Target','Auto_Target']]"
   ]
  },
  {
   "cell_type": "code",
   "execution_count": 204,
   "metadata": {},
   "outputs": [],
   "source": [
    "neutro = positivo = negativo = 0\n",
    "contagem_0 = len(lista_train0_tit_quero)\n",
    "contagem_1 = len(lista_train1_tit_quero)\n",
    "contagem_2 = len(lista_train2_tit_quero)\n",
    "\n",
    "lista_total = lista_train2_tit_quero + lista_train1_tit_quero + lista_train0_tit_quero\n",
    "conta_palavras = []\n",
    "for i in range(0, len(lista_total)):\n",
    "    palavra = lista_total[i]\n",
    "    if palavra not in conta_palavras:\n",
    "        conta_palavras.append(palavra)\n",
    "universo = len(conta_palavras)\n",
    "\n",
    "\n",
    "for i in range(0, len(test_tit)):\n",
    "\n",
    "    frases = ''\n",
    "    lista_splits = []\n",
    "    probFraseDado0 = 0\n",
    "    probFraseDado1 = 0\n",
    "    probFraseDado2 = 0\n",
    "\n",
    "    frases += test_tit.iloc[i,0]\n",
    "    lista_splits = frases.split()\n",
    "\n",
    "    for w in range(0, len(lista_splits)):\n",
    "        palavra = lista_splits[w]\n",
    "        if palavra in serie0_tit.index.to_list():\n",
    "            if probFraseDado0 == 0:\n",
    "                probFraseDado0 = (serie0_tit[palavra]+1) / (contagem_0 + universo)\n",
    "            else:\n",
    "                probFraseDado0 *= (serie0_tit[palavra]+1) / (contagem_0 + universo)\n",
    "        else:\n",
    "            if probFraseDado0 == 0:\n",
    "                probFraseDado0 = 1 / (contagem_0 + universo)\n",
    "            else:\n",
    "                probFraseDado0 *= 1 / (contagem_0 + universo)\n",
    "        if palavra in serie1_tit.index.to_list():\n",
    "            if probFraseDado1 == 0:\n",
    "                probFraseDado1 = (serie1_tit[palavra]+1) / (contagem_1 + universo)\n",
    "            else:\n",
    "                probFraseDado1 *= (serie1_tit[palavra]+1) / (contagem_1 + universo)\n",
    "        else:\n",
    "            if probFraseDado1 == 0:\n",
    "                probFraseDado1 = 1 / (contagem_1 + universo)\n",
    "            else:\n",
    "                probFraseDado1 *= 1 / (contagem_1 + universo)\n",
    "        if palavra in serie2_tit.index.to_list():\n",
    "            if probFraseDado2 == 0:\n",
    "                probFraseDado2 *= (serie2_tit[palavra]+1) / (contagem_2 + universo)\n",
    "            else:\n",
    "                probFraseDado2 *= (serie2_tit[palavra]+1) / (contagem_2 + universo)\n",
    "        else:\n",
    "            if probFraseDado2 == 0:\n",
    "                probFraseDado2 = 1 / (contagem_2 + universo)\n",
    "            else:\n",
    "                probFraseDado2 *= 1 / (contagem_2 + universo)\n",
    "\n",
    "    prob0DadoFrase = probFraseDado0 * prob0\n",
    "    prob1DadoFrase = probFraseDado1 * prob1\n",
    "    prob2DadoFrase = probFraseDado2 * prob2\n",
    "\n",
    "    if float(prob0DadoFrase) > float(prob1DadoFrase) and float(prob0DadoFrase) > float(prob2DadoFrase):\n",
    "        negativo += 1\n",
    "        test_tit.iloc[i, 2] = 0\n",
    "\n",
    "    elif float(prob1DadoFrase) > float(prob2DadoFrase):\n",
    "        positivo += 1\n",
    "        test_tit.iloc[i, 2] = 1\n",
    "\n",
    "    else:\n",
    "        neutro += 1\n",
    "        test_tit.iloc[i, 2] = 2\n"
   ]
  },
  {
   "cell_type": "code",
   "execution_count": 205,
   "metadata": {},
   "outputs": [
    {
     "name": "stdout",
     "output_type": "stream",
     "text": [
      "Bot NEGATIVO: 94\n",
      "Bot POSITIVO: 84\n",
      "Bot NEUTRO: 142\n"
     ]
    }
   ],
   "source": [
    "print(f'Bot NEGATIVO: {negativo}')\n",
    "print(f'Bot POSITIVO: {positivo}')\n",
    "print(f'Bot NEUTRO: {neutro}')"
   ]
  },
  {
   "cell_type": "code",
   "execution_count": 206,
   "metadata": {},
   "outputs": [
    {
     "name": "stdout",
     "output_type": "stream",
     "text": [
      "Bot FAKE NEGATIVO: 20.62%\n",
      "Bot FAKE POSITIVO: 13.44%\n",
      "Bot FAKE NEUTRO: 9.69%\n",
      "------------------------------\n",
      "Bot VERDADEIRO NEGATIVO: 8.75%\n",
      "Bot VERDADEIRO POSITIVO: 12.81%\n",
      "Bot VERDADEIRO NEUTRO: 34.69%\n"
     ]
    }
   ],
   "source": [
    "falso0 = 0\n",
    "falso1 = 0\n",
    "falso2 = 0\n",
    "\n",
    "verd0=0\n",
    "verd1=0\n",
    "verd2=0\n",
    "\n",
    "for i in range(0, len(test_tit)):\n",
    "    if test_tit.iloc[i, 1] != test_tit.iloc[i, 2]:\n",
    "        if test_tit.iloc[i, 2] == 0:\n",
    "            falso0 += 1\n",
    "        elif test_tit.iloc[i, 2] == 1:\n",
    "            falso1 += 1\n",
    "        else:\n",
    "            falso2 += 1\n",
    "    else:\n",
    "        if test_tit.iloc[i, 2] == 0:\n",
    "            verd0 += 1\n",
    "        elif test_tit.iloc[i, 2] == 1:\n",
    "            verd1 += 1\n",
    "        else:\n",
    "            verd2 += 1\n",
    "        \n",
    "print(f'Bot FAKE NEGATIVO: {falso0/len(test_tit)*100:.2f}%')\n",
    "print(f'Bot FAKE POSITIVO: {falso1/len(test_tit)*100:.2f}%')\n",
    "print(f'Bot FAKE NEUTRO: {falso2/len(test_tit)*100:.2f}%')\n",
    "print(30*'-')\n",
    "print(f'Bot VERDADEIRO NEGATIVO: {verd0/len(test_tit)*100:.2f}%')\n",
    "print(f'Bot VERDADEIRO POSITIVO: {verd1/len(test_tit)*100:.2f}%')\n",
    "print(f'Bot VERDADEIRO NEUTRO: {verd2/len(test_tit)*100:.2f}%')"
   ]
  },
  {
   "cell_type": "code",
   "execution_count": 207,
   "metadata": {},
   "outputs": [
    {
     "name": "stdout",
     "output_type": "stream",
     "text": [
      "A ACURÁCIA encontrada foi de aproximadamente 56.25%\n"
     ]
    }
   ],
   "source": [
    "acuracia = 1- (falso0 + falso1 + falso2) / len(test)\n",
    "\n",
    "print(f'A ACURÁCIA encontrada foi de aproximadamente {acuracia*100}%')"
   ]
  },
  {
   "cell_type": "code",
   "execution_count": 151,
   "metadata": {},
   "outputs": [
    {
     "data": {
      "text/html": [
       "<div>\n",
       "<style scoped>\n",
       "    .dataframe tbody tr th:only-of-type {\n",
       "        vertical-align: middle;\n",
       "    }\n",
       "\n",
       "    .dataframe tbody tr th {\n",
       "        vertical-align: top;\n",
       "    }\n",
       "\n",
       "    .dataframe thead th {\n",
       "        text-align: right;\n",
       "    }\n",
       "</style>\n",
       "<table border=\"1\" class=\"dataframe\">\n",
       "  <thead>\n",
       "    <tr style=\"text-align: right;\">\n",
       "      <th></th>\n",
       "      <th>Titulo</th>\n",
       "      <th>Target</th>\n",
       "      <th>Auto_Target</th>\n",
       "    </tr>\n",
       "  </thead>\n",
       "  <tbody>\n",
       "    <tr>\n",
       "      <th>0</th>\n",
       "      <td>bolsonaro critica tse e diz que medidas da cor...</td>\n",
       "      <td>0</td>\n",
       "      <td>0</td>\n",
       "    </tr>\n",
       "    <tr>\n",
       "      <th>1</th>\n",
       "      <td>esquerda se solidarizou com facada em 2018 ao ...</td>\n",
       "      <td>0</td>\n",
       "      <td>2</td>\n",
       "    </tr>\n",
       "    <tr>\n",
       "      <th>2</th>\n",
       "      <td>bolsonaro cometeu crime contra a humanidade na...</td>\n",
       "      <td>0</td>\n",
       "      <td>0</td>\n",
       "    </tr>\n",
       "    <tr>\n",
       "      <th>3</th>\n",
       "      <td>crítico de bolsonaro compra domínio e recria s...</td>\n",
       "      <td>0</td>\n",
       "      <td>0</td>\n",
       "    </tr>\n",
       "    <tr>\n",
       "      <th>4</th>\n",
       "      <td>bolsonaro cometeu crime contra a humanidade na...</td>\n",
       "      <td>0</td>\n",
       "      <td>0</td>\n",
       "    </tr>\n",
       "    <tr>\n",
       "      <th>5</th>\n",
       "      <td>pgr defende prorrogar investigação de bolsonar...</td>\n",
       "      <td>0</td>\n",
       "      <td>0</td>\n",
       "    </tr>\n",
       "    <tr>\n",
       "      <th>6</th>\n",
       "      <td>consultorias de orçamento discordam de veto à ...</td>\n",
       "      <td>0</td>\n",
       "      <td>0</td>\n",
       "    </tr>\n",
       "    <tr>\n",
       "      <th>7</th>\n",
       "      <td>entrevista de bolsonaro a jn tem panelaços em ...</td>\n",
       "      <td>0</td>\n",
       "      <td>2</td>\n",
       "    </tr>\n",
       "    <tr>\n",
       "      <th>8</th>\n",
       "      <td>lula tem 47 contra 32 de bolsonaro diz datafolha</td>\n",
       "      <td>2</td>\n",
       "      <td>2</td>\n",
       "    </tr>\n",
       "    <tr>\n",
       "      <th>9</th>\n",
       "      <td>bolsonaro passou ao centrão área com licitação...</td>\n",
       "      <td>0</td>\n",
       "      <td>0</td>\n",
       "    </tr>\n",
       "  </tbody>\n",
       "</table>\n",
       "</div>"
      ],
      "text/plain": [
       "                                              Titulo  Target Auto_Target\n",
       "0  bolsonaro critica tse e diz que medidas da cor...       0           0\n",
       "1  esquerda se solidarizou com facada em 2018 ao ...       0           2\n",
       "2  bolsonaro cometeu crime contra a humanidade na...       0           0\n",
       "3  crítico de bolsonaro compra domínio e recria s...       0           0\n",
       "4  bolsonaro cometeu crime contra a humanidade na...       0           0\n",
       "5  pgr defende prorrogar investigação de bolsonar...       0           0\n",
       "6  consultorias de orçamento discordam de veto à ...       0           0\n",
       "7  entrevista de bolsonaro a jn tem panelaços em ...       0           2\n",
       "8   lula tem 47 contra 32 de bolsonaro diz datafolha       2           2\n",
       "9  bolsonaro passou ao centrão área com licitação...       0           0"
      ]
     },
     "execution_count": 151,
     "metadata": {},
     "output_type": "execute_result"
    }
   ],
   "source": [
    "test_tit.head(10)"
   ]
  },
  {
   "cell_type": "markdown",
   "metadata": {},
   "source": [
    "# Matriz de Confusão"
   ]
  },
  {
   "cell_type": "code",
   "execution_count": 152,
   "metadata": {},
   "outputs": [],
   "source": [
    "from sklearn import metrics\n",
    "lista_target=[]\n",
    "lista_auto_target=[]\n",
    "\n",
    "for j in range(0,len(test_tit)):\n",
    "    eu=test_tit.iloc[j,1]\n",
    "    bot=test_tit.iloc[j,2]\n",
    "    lista_target.append(eu)\n",
    "    lista_auto_target.append(bot)\n",
    "\n"
   ]
  },
  {
   "cell_type": "code",
   "execution_count": 153,
   "metadata": {},
   "outputs": [
    {
     "data": {
      "image/png": "[encoded data removed]",
      "text/plain": [
       "<Figure size 432x288 with 2 Axes>"
      ]
     },
     "metadata": {
      "needs_background": "light"
     },
     "output_type": "display_data"
    }
   ],
   "source": [
    "confusion_matrix_tit=metrics.confusion_matrix(lista_target,lista_auto_target)\n",
    "cm_display_tit=metrics.ConfusionMatrixDisplay(confusion_matrix_tit,display_labels=['Negativos','Positivos','Neutros'])\n",
    "cm_display_tit.plot()\n",
    "plt.title('Matriz de Confusão')\n",
    "plt.show()"
   ]
  },
  {
   "cell_type": "markdown",
   "metadata": {},
   "source": [
    "___\n",
    "### Concluindo"
   ]
  },
  {
   "cell_type": "markdown",
   "metadata": {},
   "source": [
    "##### Utilizando o método das 'Stop Words'"
   ]
  },
  {
   "cell_type": "markdown",
   "metadata": {},
   "source": [
    "É importante ressaltar que todas as palavras inclusas na lista de excluídos são irrelevantes para nossa análise, e em alguns casos, diminui a performance do classificador. Puxando como exemplo os três últimos itens ('jair','presidente' e 'bolsonaro') foi visto que a retirada dessas palavras aumentou a acurácia final do classificador, uma vez que em todas às categorias (POSITIVO, NEGATIVO e NEUTRO) essas apareciam com maior frequência. "
   ]
  },
  {
   "cell_type": "markdown",
   "metadata": {},
   "source": [
    "##### Iterações"
   ]
  },
  {
   "cell_type": "markdown",
   "metadata": {},
   "source": [
    "Para uma melhor performance, foi preciso analisar todas as categorias (POSITIVO, NEGATIVO e NEUTRO) a partir de uma base de dados simétrica, ou seja, todas as listas de categorias foram filtradas com o intuito de possuírem o mesmo tamanho. Com isso, conseguimos uniformizar a classificação e por consequência aumentar a acurácia. "
   ]
  },
  {
   "cell_type": "markdown",
   "metadata": {},
   "source": [
    "##### Outras Considerações"
   ]
  },
  {
   "cell_type": "markdown",
   "metadata": {},
   "source": [
    "O classficador não alcançou a acurácia desejada, pode-se dizer que foi mediana. Um dos possíveis motivos pode estar relacionado a quantidade de notícias NEUTRAS, uma vez que sua probabilidade ficou por volta de 50% (considerando os targets manuais). Por que tantas neutras? Bom, a base de dados foi obtida no início de setembro de 2022, logo às notícias enfatizaram assuntos relacionadas ao período eleitoral. Tal tema, foi classificado como NEUTRO, já que queremos analisar o desempenho do GOVERNO e não da popularidade do mesmo. "
   ]
  },
  {
   "cell_type": "markdown",
   "metadata": {},
   "source": [
    "# Finalizando"
   ]
  },
  {
   "cell_type": "markdown",
   "metadata": {},
   "source": [
    "### Criando uma função para calcular a acurácia com base nos dados anteriores"
   ]
  },
  {
   "cell_type": "code",
   "execution_count": 208,
   "metadata": {},
   "outputs": [],
   "source": [
    "def calc_acuracia (base_train, base_test):\n",
    "\n",
    "    train0_tit = base_train.loc[base_train['Target']==0,['Titulo','Target']]\n",
    "    train1_tit = base_train.loc[base_train['Target']==1,['Titulo','Target']]\n",
    "    train2_tit = base_train.loc[base_train['Target']==2,['Titulo','Target']]\n",
    "\n",
    "    excluidos=['[…]','nan','–','de','a','o','e','na','no','do','em','ao','da','é','à','os','nas','nos','das','que',\n",
    "          'dos','as','r','se','para', '', 'como', 'com', 'um', 'nesta', 'diz', 'uma', 'por', 'foi', 'vai', 'após', 'durante',\n",
    "          'ele', 'ela', 'pelo', 'pela', 'segundafeira', 'terçafeira', 'quartafeira', 'quintafeira', 'sextafeira', \n",
    "          'sábado', 'domingo', 'são', 'ser','jair','presidente','bolsonaro']\n",
    "\n",
    "    # LISTA DOS NEGATIVOS\n",
    "    lista_train0_tit=[]\n",
    "    lista_train0_tit_quero=[]\n",
    "    for i in range(0,len(train0_tit)):\n",
    "        quero=train0_tit.iloc[i,0]\n",
    "        final = quero.split()\n",
    "        lista_train0_tit+=(final)\n",
    "    w=0\n",
    "    while w <len(lista_train0_tit):\n",
    "        if lista_train0_tit[w] not in excluidos:\n",
    "            lista_train0_tit_quero.append(lista_train0_tit[w])\n",
    "        w+=1\n",
    "\n",
    "    # LISTA DOS POSITIVOS\n",
    "    lista_train1_tit=[]\n",
    "    lista_train1_tit_quero=[]\n",
    "    for i in range(0,len(train1_tit)):\n",
    "        quero=train1_tit.iloc[i,0]\n",
    "        final = quero.split()\n",
    "        lista_train1_tit+=(final)\n",
    "    w=0\n",
    "    while w <len(lista_train1_tit):\n",
    "        if lista_train1_tit[w] not in excluidos:\n",
    "            lista_train1_tit_quero.append(lista_train1_tit[w])\n",
    "        w+=1\n",
    "\n",
    "    # LISTA DOS NEUTROS\n",
    "    lista_train2_tit=[]\n",
    "    lista_train2_tit_quero=[]\n",
    "    for i in range(0,len(train2_tit)):\n",
    "        quero=train2_tit.iloc[i,0]\n",
    "        final = quero.split()\n",
    "        lista_train2_tit+=(final)\n",
    "    w=0\n",
    "    while w <len(lista_train2_tit):\n",
    "        if lista_train2_tit[w] not in excluidos:\n",
    "            lista_train2_tit_quero.append(lista_train2_tit[w])\n",
    "        w+=1\n",
    "\n",
    "    # TRANSFORMANDO PARA SERIE\n",
    "    serie0_tit=pd.Series(lista_train0_tit_quero).value_counts()\n",
    "    serie1_tit=pd.Series(lista_train1_tit_quero).value_counts()\n",
    "    serie2_tit=pd.Series(lista_train2_tit_quero).value_counts()\n",
    "\n",
    "    # ITERANDO\n",
    "    len0 = len(serie0_tit)\n",
    "    len1 = len(serie1_tit)\n",
    "    len2 = len(serie2_tit)\n",
    "\n",
    "    if len0 < len1 and len0 < len2:\n",
    "        serie1_tit = serie1_tit.to_frame()\n",
    "        serie1_tit = serie1_tit.iloc[0:len0,:]\n",
    "        serie2_tit = serie2_tit.to_frame()\n",
    "        serie2_tit = serie2_tit.iloc[0:len0,:]\n",
    "    elif len1 < len2:\n",
    "        serie0_tit = serie0_tit.to_frame()\n",
    "        serie0_tit = serie0_tit.iloc[0:len1,:]\n",
    "        serie2_tit = serie2_tit.to_frame()\n",
    "        serie2_tit = serie2_tit.iloc[0:len0,:]\n",
    "    else:\n",
    "        serie0_tit = serie0_tit.to_frame()\n",
    "        serie0_tit = serie0_tit.iloc[0:len2,:]\n",
    "        serie1_tit = serie1_tit.to_frame()\n",
    "        serie1_tit = serie1_tit.iloc[0:len0,:]\n",
    "\n",
    "    serie0_tit = serie0_tit.squeeze()\n",
    "    serie1_tit = serie1_tit.squeeze()\n",
    "    serie2_tit = serie2_tit.squeeze()\n",
    "\n",
    "    for palavra in lista_train0_tit_quero:\n",
    "        if palavra not in serie0_tit.index:\n",
    "            lista_train0_tit_quero.remove(palavra)\n",
    "\n",
    "    for palavra in lista_train1_tit_quero:\n",
    "        if palavra not in serie1_tit.index:\n",
    "            lista_train1_tit_quero.remove(palavra)\n",
    "        \n",
    "    for palavra in lista_train2_tit_quero:\n",
    "        if palavra not in serie2_tit.index:\n",
    "            lista_train2_tit_quero.remove(palavra)\n",
    "\n",
    "    # ANALISANDO PROBABILIDADES DOS TARGETS\n",
    "    tam0=len(train0_tit)\n",
    "    tam1=len(train1_tit)\n",
    "    tam2=len(train2_tit)\n",
    "    total= tam0 + tam1 + tam2\n",
    "\n",
    "    prob0=tam0/total\n",
    "    prob1=tam1/total\n",
    "    prob2=tam2/total\n",
    "\n",
    "    contagem_0 = len(lista_train0_tit_quero)\n",
    "    contagem_1 = len(lista_train1_tit_quero)\n",
    "    contagem_2 = len(lista_train2_tit_quero)\n",
    "\n",
    "    # CALCULO PARA AUTO_TARGET\n",
    "    neutro = positivo = negativo = 0\n",
    "    contagem_0 = len(lista_train0_tit_quero)\n",
    "    contagem_1 = len(lista_train1_tit_quero)\n",
    "    contagem_2 = len(lista_train2_tit_quero)\n",
    "\n",
    "    lista_total = lista_train2_tit_quero + lista_train1_tit_quero + lista_train0_tit_quero\n",
    "    conta_palavras = []\n",
    "    for i in range(0, len(lista_total)):\n",
    "        palavra = lista_total[i]\n",
    "        if palavra not in conta_palavras:\n",
    "            conta_palavras.append(palavra)\n",
    "    universo = len(conta_palavras)\n",
    "\n",
    "    for i in range(0, len(base_test)):\n",
    "        frases = ''\n",
    "        lista_splits = []\n",
    "        probFraseDado0 = 0\n",
    "        probFraseDado1 = 0\n",
    "        probFraseDado2 = 0\n",
    "        frases += base_test.iloc[i,0]\n",
    "        lista_splits = frases.split()\n",
    "        for w in range(0, len(lista_splits)):\n",
    "            palavra = lista_splits[w]\n",
    "            if palavra in serie0_tit.index.to_list():\n",
    "                if probFraseDado0 == 0:\n",
    "                    probFraseDado0 = (serie0_tit[palavra]+1) / (contagem_0 + universo)\n",
    "                else:\n",
    "                    probFraseDado0 *= (serie0_tit[palavra]+1) / (contagem_0 + universo)\n",
    "            else:\n",
    "                if probFraseDado0 == 0:\n",
    "                    probFraseDado0 = 1 / (contagem_0 + universo)\n",
    "                else:\n",
    "                    probFraseDado0 *= 1 / (contagem_0 + universo)\n",
    "            if palavra in serie1_tit.index.to_list():\n",
    "                if probFraseDado1 == 0:\n",
    "                    probFraseDado1 = (serie1_tit[palavra]+1) / (contagem_1 + universo)\n",
    "                else:\n",
    "                    probFraseDado1 *= (serie1_tit[palavra]+1) / (contagem_1 + universo)\n",
    "            else:\n",
    "                if probFraseDado1 == 0:\n",
    "                    probFraseDado1 = 1 / (contagem_1 + universo)\n",
    "                else:\n",
    "                    probFraseDado1 *= 1 / (contagem_1 + universo)\n",
    "            if palavra in serie2_tit.index.to_list():\n",
    "                if probFraseDado2 == 0:\n",
    "                    probFraseDado2 *= (serie2_tit[palavra]+1) / (contagem_2 + universo)\n",
    "                else:\n",
    "                    probFraseDado2 *= (serie2_tit[palavra]+1) / (contagem_2 + universo)\n",
    "            else:\n",
    "                if probFraseDado2 == 0:\n",
    "                    probFraseDado2 = 1 / (contagem_2 + universo)\n",
    "                else:\n",
    "                    probFraseDado2 *= 1 / (contagem_2 + universo)\n",
    "        prob0DadoFrase = probFraseDado0 * prob0\n",
    "        prob1DadoFrase = probFraseDado1 * prob1\n",
    "        prob2DadoFrase = probFraseDado2 * prob2\n",
    "        if float(prob0DadoFrase) > float(prob1DadoFrase) and float(prob0DadoFrase) > float(prob2DadoFrase):\n",
    "            negativo += 1\n",
    "            base_test.iloc[i, 2] = 0\n",
    "        elif float(prob1DadoFrase) > float(prob2DadoFrase):\n",
    "            positivo += 1\n",
    "            base_test.iloc[i, 2] = 1\n",
    "        else:\n",
    "            neutro += 1\n",
    "            base_test.iloc[i, 2] = 2\n",
    "            \n",
    "    # CHECANDO FALSOS VERDADEIROS PARA CADA TARGET\n",
    "    falso0 = 0\n",
    "    falso1 = 0\n",
    "    falso2 = 0\n",
    "    for i in range(0, len(base_test)):\n",
    "        if base_test.iloc[i, 1] != base_test.iloc[i, 2]:\n",
    "            if base_test.iloc[i, 2] == 0:\n",
    "                falso0 += 1\n",
    "            elif base_test.iloc[i, 2] == 1:\n",
    "                falso1 += 1\n",
    "            else:\n",
    "                falso2 += 1\n",
    "\n",
    "    # ENCONTRANDO ACURACIA\n",
    "    acuracia = 1 - (falso0 + falso1 + falso2) / len(base_test)\n",
    "\n",
    "    return acuracia\n",
    "    "
   ]
  },
  {
   "cell_type": "code",
   "execution_count": 209,
   "metadata": {},
   "outputs": [
    {
     "data": {
      "text/plain": [
       "0.5625"
      ]
     },
     "execution_count": 209,
     "metadata": {},
     "output_type": "execute_result"
    }
   ],
   "source": [
    "calc_acuracia(train_tit,test_tit)"
   ]
  },
  {
   "cell_type": "markdown",
   "metadata": {},
   "source": [
    "___\n",
    "### Qualidade do Classificador a partir de novas separações das notícias entre Treinamento e Teste\n",
    "\n",
    "Caso for fazer esse item do Projeto"
   ]
  },
  {
   "cell_type": "code",
   "execution_count": null,
   "metadata": {},
   "outputs": [],
   "source": [
    "train_mais_test=pd.concat([train_tit,test_tit])\n"
   ]
  },
  {
   "cell_type": "code",
   "execution_count": null,
   "metadata": {},
   "outputs": [],
   "source": [
    "from sklearn.model_selection import train_test_split\n",
    "new_train, new_test = train_test_split(train_mais_test, test_size=0.4)\n"
   ]
  },
  {
   "cell_type": "code",
   "execution_count": null,
   "metadata": {},
   "outputs": [
    {
     "name": "stderr",
     "output_type": "stream",
     "text": [
      "c:\\Users\\Pedro De Lucca\\anaconda3\\lib\\site-packages\\pandas\\core\\indexing.py:1817: SettingWithCopyWarning: \n",
      "A value is trying to be set on a copy of a slice from a DataFrame.\n",
      "Try using .loc[row_indexer,col_indexer] = value instead\n",
      "\n",
      "See the caveats in the documentation: https://pandas.pydata.org/pandas-docs/stable/user_guide/indexing.html#returning-a-view-versus-a-copy\n",
      "  self._setitem_single_column(loc, value, pi)\n"
     ]
    }
   ],
   "source": [
    "n = 100\n",
    "lista_acuracias = []\n",
    "for i in range(0, n):\n",
    "    train_mais_test=pd.concat([train_tit,test_tit])\n",
    "    new_train, new_test = train_test_split(train_mais_test, test_size=0.4)\n",
    "    acuracia_n = calc_acuracia(new_train,new_test)\n",
    "    lista_acuracias.append(acuracia_n)"
   ]
  },
  {
   "cell_type": "markdown",
   "metadata": {},
   "source": [
    "## Plotando o Histograma das Acurácias"
   ]
  },
  {
   "cell_type": "code",
   "execution_count": null,
   "metadata": {},
   "outputs": [
    {
     "data": {
      "image/png": "[encoded data removed]",
      "text/plain": [
       "<Figure size 720x360 with 1 Axes>"
      ]
     },
     "metadata": {
      "needs_background": "light"
     },
     "output_type": "display_data"
    }
   ],
   "source": [
    "plt.figure(figsize=(10, 5))\n",
    "plt.title(f\"Acurácia de classificação de notícias\")\n",
    "plt.ylabel(\"Frequência das Aparições\")\n",
    "plt.xlabel(\"Resultado da Acurácia [%]\")\n",
    "plt.hist(lista_acuracias, color='darkcyan', edgecolor='black',density=False)\n",
    "plt.show()"
   ]
  },
  {
   "cell_type": "markdown",
   "metadata": {},
   "source": [
    "#### Considerações Finais"
   ]
  },
  {
   "cell_type": "markdown",
   "metadata": {},
   "source": [
    "É possível concluir que, caso realizássemos essa configuração apenas uma vez, como vista anteriormente no projeto, a chance de obtermos percentuais medianos de acertos é alta, assim como de obtermos percentuais mais baixos, como ilustrado no gráfico acima. Desse modo, é possível observar as desvantagens em 'rodar' os teste uma única vez, já que nem sempre essa prática retornará o melhor resultado possível. Logo, sempre que possível, deve-se realizar o processo de Validação Cruzada. "
   ]
  },
  {
   "cell_type": "markdown",
   "metadata": {},
   "source": [
    "#### Outras aplicações para Naive-Bayes "
   ]
  },
  {
   "cell_type": "markdown",
   "metadata": {},
   "source": [
    "Anomalias genéticas, hereditárias ou não, comumente aliam a grande dificuldade no tratamento a um fator muito importante à recuperação do paciente: a predição. Reconhecer uma anormalidade genética antes que ela se manifeste é quase sempre (se não sempre) muito complexo, o que, dentre muitas outras coisas, entrava o desenvolvimento de métodos preventivos para esses casos. A partir de uma base de dados que representasse os genomas de pessoas que sabidamente eram ou são afetadas com anomalias genéticas, a aplicação do classificador Naive-Bayes poderia ser útil na distinção de genomas que correm mais ou menos risco de manifestar anomalias relacionadas ao material genético. Além disso, a análise de Falsos Positivo e Falsos Negativo também poderia ser de extrema significância para a identificação de padrões que abrangessem o entendimento sobre essas anormalidades, como a inexpressividade, por exemplo, de anomalias em determinadas partes do DNA."
   ]
  },
  {
   "cell_type": "markdown",
   "metadata": {},
   "source": [
    "Outro cenário, poderia ser a utilização de Naive-Bayes em algoritmos de recomendação. Vamos utilizar como exemplo o Spotify. De acordo com os gêneros mais escutados semanalmente, a plataforma cria playlists personalizadas para cada tipo usuário, além de recomendar músicas semelhantes para o mesmo adicionar à playlist, satisfazendo seus gostos musicais e consequentemente mantendo o usuário mais conectado na plataforma.   "
   ]
  },
  {
   "cell_type": "markdown",
   "metadata": {},
   "source": [
    "#### Como melhorar o classificador?"
   ]
  },
  {
   "cell_type": "markdown",
   "metadata": {},
   "source": [
    "Apesar de possuirmos uma quantidade boa de notícias, poderíamos melhorar o modelo buscando atualizar, por meio de uma automação Web, a base de dados (diariamenteou semanalmente) com notícias variadas relacionadas ao governo Bolsonaro no site da IstoÉ Dinheiro. Com isso, é possível amenizar a ocorrência da base ser tangenciada para uma determinada categoria, como aconteceu nesse projeto com o Target 0 (NEUTRAS). Para isso, podemos aplicar alguns recursos da biblioteca Selenium, muito utilizada em aplicações de automação Web. Veja a documentação em: https://selenium-python.readthedocs.io/  "
   ]
  },
  {
   "cell_type": "markdown",
   "metadata": {},
   "source": [
    "___\n",
    "## Referências"
   ]
  },
  {
   "cell_type": "markdown",
   "metadata": {},
   "source": [
    "[Naive Bayes and Text Classification](https://arxiv.org/pdf/1410.5329.pdf)  **Mais completo**\n",
    "\n",
    "[A practical explanation of a Naive Bayes Classifier](https://monkeylearn.com/blog/practical-explanation-naive-bayes-classifier/) **Mais simples**"
   ]
  }
 ],
 "metadata": {
  "kernelspec": {
   "display_name": "Python 3.9.7 ('base')",
   "language": "python",
   "name": "python3"
  },
  "language_info": {
   "codemirror_mode": {
    "name": "ipython",
    "version": 3
   },
   "file_extension": ".py",
   "mimetype": "text/x-python",
   "name": "python",
   "nbconvert_exporter": "python",
   "pygments_lexer": "ipython3",
   "version": "3.9.7"
  },
  "orig_nbformat": 4,
  "vscode": {
   "interpreter": {
    "hash": "bd2d49180acf4888e6c19e4e0f59a062d636affdef1eef64c56316519b0294c5"
   }
  }
 },
 "nbformat": 4,
 "nbformat_minor": 2
}
